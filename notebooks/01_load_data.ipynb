{
 "cells": [
  {
   "cell_type": "code",
   "execution_count": 5,
   "metadata": {},
   "outputs": [],
   "source": [
    "import pandas as pd\n",
    "import os \n",
    "import kaggle\n",
    "import random\n",
    "import shutil"
   ]
  },
  {
   "cell_type": "code",
   "execution_count": 3,
   "metadata": {},
   "outputs": [],
   "source": [
    "def download_dataset(slug,path):\n",
    "    try:\n",
    "        kaggle.api.dataset_download_files(slug, path=path, unzip=True)\n",
    "    except Exception as e:\n",
    "        raise NameError(\"Dataset doesn't exist\") from e\n",
    "    "
   ]
  },
  {
   "cell_type": "code",
   "execution_count": 4,
   "metadata": {},
   "outputs": [],
   "source": [
    "download_dataset('paultimothymooney/chest-xray-pneumonia',r'../data/external')"
   ]
  },
  {
   "cell_type": "code",
   "execution_count": 6,
   "metadata": {},
   "outputs": [],
   "source": [
    "def resize_datasets():\n",
    "    dataset_path= '../data/external/chest_xray/'\n",
    "    new_dataset_path = '../data/external/chest_xray_new/'\n",
    "    if not os.path.exists(new_dataset_path):\n",
    "        for split in ['train', 'val', 'test']:\n",
    "            for cls in ['NORMAL', 'PNEUMONIA']:\n",
    "                os.makedirs(f'{new_dataset_path}/{split}/{cls}', exist_ok=True)\n",
    "\n",
    "    for cls in ['NORMAL', 'PNEUMONIA']:\n",
    "        all_files = []\n",
    "        for split in ['train', 'val', 'test']:\n",
    "            source_folder = f'{dataset_path}/{split}/{cls}'\n",
    "            files = os.listdir(source_folder)\n",
    "            all_files.extend([(file, source_folder) for file in files])\n",
    "\n",
    "        random.shuffle(all_files)\n",
    "\n",
    "        train_files = all_files[:int(len(all_files)*0.8)]\n",
    "        val_files = all_files[int(len(all_files)*0.8):int(len(all_files)*0.9)]\n",
    "        test_files = all_files[int(len(all_files)*0.9):]\n",
    "\n",
    "        for file, source_folder in train_files:\n",
    "            dest = f'{new_dataset_path}/train/{cls}/{file}'\n",
    "            shutil.copy(f'{source_folder}/{file}', dest)\n",
    "\n",
    "        for file, source_folder in val_files:\n",
    "            dest = f'{new_dataset_path}/val/{cls}/{file}'\n",
    "            shutil.copy(f'{source_folder}/{file}', dest)\n",
    "\n",
    "        for file, source_folder in test_files:\n",
    "            dest = f'{new_dataset_path}/test/{cls}/{file}'\n",
    "            shutil.copy(f'{source_folder}/{file}', dest)  "
   ]
  },
  {
   "cell_type": "code",
   "execution_count": null,
   "metadata": {},
   "outputs": [],
   "source": [
    "resize_datasets()"
   ]
  }
 ],
 "metadata": {
  "kernelspec": {
   "display_name": "Python 3",
   "language": "python",
   "name": "python3"
  },
  "language_info": {
   "codemirror_mode": {
    "name": "ipython",
    "version": 3
   },
   "file_extension": ".py",
   "mimetype": "text/x-python",
   "name": "python",
   "nbconvert_exporter": "python",
   "pygments_lexer": "ipython3",
   "version": "3.12.2"
  }
 },
 "nbformat": 4,
 "nbformat_minor": 2
}
